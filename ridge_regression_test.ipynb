{
  "nbformat": 4,
  "nbformat_minor": 0,
  "metadata": {
    "celltoolbar": "Raw Cell Format",
    "kernelspec": {
      "display_name": "Python 3",
      "language": "python",
      "name": "python3"
    },
    "language_info": {
      "codemirror_mode": {
        "name": "ipython",
        "version": 3
      },
      "file_extension": ".py",
      "mimetype": "text/x-python",
      "name": "python",
      "nbconvert_exporter": "python",
      "pygments_lexer": "ipython3",
      "version": "3.7.4"
    },
    "colab": {
      "name": "ridge_regression.ipynb",
      "provenance": [],
      "collapsed_sections": [],
      "toc_visible": true
    }
  },
  "cells": [
    {
      "cell_type": "markdown",
      "metadata": {
        "id": "p9aXndhQC6l1",
        "colab_type": "text"
      },
      "source": [
        "Add to enable matplotlib backend for magic usage. With this backend, the output of plotting commands is displayed inline within frontend and the resulting plots will then also be stored in the notebook document."
      ]
    },
    {
      "cell_type": "code",
      "metadata": {
        "id": "DWPMfvoXC6l3",
        "colab_type": "code",
        "colab": {}
      },
      "source": [
        "%matplotlib inline"
      ],
      "execution_count": 0,
      "outputs": []
    },
    {
      "cell_type": "markdown",
      "metadata": {
        "id": "pUW4LZdcC6l6",
        "colab_type": "text"
      },
      "source": [
        "# Ridge regression"
      ]
    },
    {
      "cell_type": "code",
      "metadata": {
        "id": "mpkTwLvjC6l7",
        "colab_type": "code",
        "colab": {}
      },
      "source": [
        "import matplotlib.pyplot as plt\n",
        "from numpy import *"
      ],
      "execution_count": 0,
      "outputs": []
    },
    {
      "cell_type": "markdown",
      "metadata": {
        "id": "vSAjwbQLC6l-",
        "colab_type": "text"
      },
      "source": [
        "<!-- set_background('') -->\n",
        "## Generate data\n",
        "\n",
        "We generate a model with a lot of noise and not too many examples. This imply that the system is underdetermined and in such a setup, the least squares estimate is expected to overfit to the noise. We then, expect ridge regression to perform better for some regularization parameter $\\lambda$."
      ]
    },
    {
      "cell_type": "code",
      "metadata": {
        "id": "j8oq3Z7JC6l_",
        "colab_type": "code",
        "colab": {}
      },
      "source": [
        "d = 10 # number of features\n",
        "n = 30 # number of examples\n",
        "sigma = 0.5 # Variance of gaussian noise with 0 mean\n",
        "\n",
        "theta = random.randn(d) # Parameter vector\n",
        "X = random.rand(n,d) # Data of n examples with each row having d features in column space\n",
        "\n",
        "y = dot(X,theta) + sigma*random.randn(n) # Linear model fitting y = <X, theta> + z"
      ],
      "execution_count": 0,
      "outputs": []
    },
    {
      "cell_type": "markdown",
      "metadata": {
        "id": "nQJtBerwC6mB",
        "colab_type": "text"
      },
      "source": [
        "Define the Ridge Regression Estimate (RRE) and the Normalized Mean Squared Error (NMSE) "
      ]
    },
    {
      "cell_type": "code",
      "metadata": {
        "id": "mmfhsKhfC6mC",
        "colab_type": "code",
        "colab": {}
      },
      "source": [
        "def RRE(X,y,lam):\n",
        "    inv = linalg.inv( dot(X.T,X) + lam*diag(ones(d)) )\n",
        "    return dot( inv ,  dot(X.T,y) )\n",
        "def NMSE(x,y):\n",
        "    return linalg.norm(x)**2 / linalg.norm(y)**2"
      ],
      "execution_count": 0,
      "outputs": []
    },
    {
      "cell_type": "markdown",
      "metadata": {
        "id": "uaJhcOyBC6mF",
        "colab_type": "text"
      },
      "source": [
        "Define span for lambdas and visualize how lambda varies with the NMSE i.e. visualize bias-variance relationship. We expect that as lambda tends to zero, theta converges to least square solution and thus the NMSE sgould be the minimum. However, as lambda tends to +infinity, theta converges to 0 i.e. in this case, NMSE will be tend to maximum value of 1. "
      ]
    },
    {
      "cell_type": "code",
      "metadata": {
        "scrolled": true,
        "id": "IpqSyCWBC6mF",
        "colab_type": "code",
        "outputId": "3dcd0398-ed56-4603-f82f-84710104af0a",
        "colab": {
          "base_uri": "https://localhost:8080/",
          "height": 283
        }
      },
      "source": [
        "lambdaspace = logspace(-5, 5, num=200)\n",
        "path = [NMSE(theta - RRE(X,y,lam), theta) for lam in lambdaspace]\n",
        "plt.semilogx(lambdaspace,path)\n",
        "plt.xlabel('lambda')\n",
        "plt.ylabel('normalized mean squared error')\n",
        "plt.show()"
      ],
      "execution_count": 23,
      "outputs": [
        {
          "output_type": "display_data",
          "data": {
            "image/png": "[encoded data removed]",
            "text/plain": [
              "<Figure size 432x288 with 1 Axes>"
            ]
          },
          "metadata": {
            "tags": []
          }
        }
      ]
    },
    {
      "cell_type": "markdown",
      "metadata": {
        "id": "u1q3S_DIC6mI",
        "colab_type": "text"
      },
      "source": [
        "The coefficients are shrunk to zero by RRE:"
      ]
    },
    {
      "cell_type": "code",
      "metadata": {
        "id": "SCx83V3oC6mJ",
        "colab_type": "code",
        "colab": {}
      },
      "source": [
        "coeffs = array([RRE(X,y,lam) for lam in lambdaspace])"
      ],
      "execution_count": 0,
      "outputs": []
    },
    {
      "cell_type": "code",
      "metadata": {
        "id": "HIfCRbqoC6mL",
        "colab_type": "code",
        "outputId": "8c55218f-e69e-401b-cf46-c204c5e12194",
        "colab": {
          "base_uri": "https://localhost:8080/",
          "height": 283
        }
      },
      "source": [
        "for c in coeffs.T:\n",
        "    plt.semilogx(lambdaspace,c)\n",
        "plt.xlabel('lambda')\n",
        "plt.ylabel('coefficient value')\n",
        "plt.show()"
      ],
      "execution_count": 25,
      "outputs": [
        {
          "output_type": "display_data",
          "data": {
            "image/png": "[encoded data removed]",
            "text/plain": [
              "<Figure size 432x288 with 1 Axes>"
            ]
          },
          "metadata": {
            "tags": []
          }
        }
      ]
    }
  ]
}